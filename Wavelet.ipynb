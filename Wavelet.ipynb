{
 "cells": [
  {
   "cell_type": "code",
   "execution_count": 1,
   "metadata": {},
   "outputs": [],
   "source": [
    "from __future__ import print_function, division\n",
    "from ipywidgets import interact, interactive, fixed, interact_manual\n",
    "import ipywidgets as widgets\n",
    "import matplotlib.pyplot as plt\n",
    "import math\n",
    "import numpy as np\n",
    "import wx\n",
    "import os\n",
    "import cv2\n",
    "import pywt\n",
    "from pylab import imread\n",
    "from PIL import Image, ImageDraw\n",
    "import pywt\n",
    "from pywt import dwt2, idwt2"
   ]
  },
  {
   "cell_type": "code",
   "execution_count": 2,
   "metadata": {
    "scrolled": false
   },
   "outputs": [
    {
     "data": {
      "application/vnd.jupyter.widget-view+json": {
       "model_id": "8b7bde26fe154a6a85d75a52100f4193",
       "version_major": 2,
       "version_minor": 0
      },
      "text/plain": [
       "interactive(children=(Dropdown(description='image_name', options=('grayscale', '78633293_2577918115761742_6671…"
      ]
     },
     "metadata": {},
     "output_type": "display_data"
    },
    {
     "data": {
      "text/plain": [
       "<function __main__.ChosenImage(image_name)>"
      ]
     },
     "execution_count": 2,
     "metadata": {},
     "output_type": "execute_result"
    }
   ],
   "source": [
    "# Load Images\n",
    "def get_path(wildcard):\n",
    "    app = wx.App(None)\n",
    "    style = (wx.FD_OPEN | wx.FD_FILE_MUST_EXIST) | wx.FD_MULTIPLE\n",
    "    dialog = wx.FileDialog(None, 'Open', wildcard=wildcard, style=style)\n",
    "    if dialog.ShowModal() == wx.ID_OK:\n",
    "        path = dialog.GetPaths()\n",
    "    else:\n",
    "        path = None\n",
    "    dialog.Destroy()\n",
    "    return path\n",
    "\n",
    "# Init lists of Image, Name\n",
    "listImage = []\n",
    "listName = []\n",
    "i = 0\n",
    "for link in get_path('*.*'):\n",
    "    name = link\n",
    "    name = os.path.basename(link)\n",
    "    if (os.path.splitext(name)[1]=='.jpg') or (os.path.splitext(name)[1]=='.png'):\n",
    "        name = os.path.splitext(name)[0]\n",
    "        image = imread(link)\n",
    "        listName.append(name)\n",
    "        listImage.append(image)\n",
    "\n",
    "# Compress\n",
    "def Compress(image):\n",
    "    if len(image.shape)>2:\n",
    "        Red_Image = image[:,:,0];\n",
    "        Green_Image = image[:,:,1];\n",
    "        Blue_Image = image[:,:,2];\n",
    "        LL, (LH, HL, HH) = dwt2(Red_Image,'db1')\n",
    "        A = idwt2((LL, (None, None, None)),'db1')\n",
    "        LL, (LH, HL, HH) = dwt2(Green_Image,'db1')\n",
    "        B = idwt2((LL, (None, None, None)),'db1')\n",
    "        LL, (LH, HL, HH) = dwt2(Blue_Image,'db1')\n",
    "        C = idwt2((LL, (None, None, None)),'db1')\n",
    "        New_Image = cv2.merge((A,B,C))\n",
    "        img = Image.fromarray(New_Image.astype('uint8'), 'RGB')\n",
    "        ImageDraw.Draw(img)\n",
    "        img.save('out.png')\n",
    "        size2 = os.stat('out.png').st_size\n",
    "        os.remove('out.png')\n",
    "    else:\n",
    "        LL, (LH, HL, HH) = dwt2(image,'db1')\n",
    "        New_Image = idwt2((LL, (None, None, None)),'db1')\n",
    "        plt.imsave('out.png', New_Image, cmap='gray')\n",
    "        size2 = os.stat('out.png').st_size\n",
    "    image = New_Image\n",
    "    return New_Image, size2\n",
    "    \n",
    "def Solve(image,levels):\n",
    "    if len(image.shape)>2:\n",
    "        img = Image.fromarray(image.astype('uint8'), 'RGB')\n",
    "        ImageDraw.Draw(img)\n",
    "        img.save('out.png')\n",
    "        size1 = os.stat('out.png').st_size \n",
    "    else:\n",
    "        plt.imsave('out.png', image, cmap='gray')\n",
    "        size1 = os.stat('out.png').st_size\n",
    "        \n",
    "    level = levels\n",
    "    while level>0:\n",
    "        image,size2 = Compress(image)\n",
    "        level = level - 1\n",
    "    if len(image.shape)>2:\n",
    "        img = Image.fromarray(image.astype('uint8'), 'RGB')\n",
    "        display(img)\n",
    "    else:\n",
    "        plt.imshow(image,cmap='gray')\n",
    "        plt.show()\n",
    "    ratio = math.ceil(size1/size2)\n",
    "    print(ratio)\n",
    "# Choose Image\n",
    "def ChosenImage(image_name):\n",
    "    for i in range(0,len(listImage)):\n",
    "        if listName[i]==image_name:\n",
    "            image_number = i\n",
    "            image = listImage[i]\n",
    "            width = image.shape[1]\n",
    "    interact(Solve, image=fixed(image), levels = widgets.FloatSlider(min=1, max = pywt.dwtn_max_level((image.shape[1],image.shape[0]), 'db1'), step=1, value=1))\n",
    "        \n",
    "interact(ChosenImage,image_name=listName)"
   ]
  },
  {
   "cell_type": "code",
   "execution_count": null,
   "metadata": {},
   "outputs": [],
   "source": []
  }
 ],
 "metadata": {
  "kernelspec": {
   "display_name": "Python 3",
   "language": "python",
   "name": "python3"
  },
  "language_info": {
   "codemirror_mode": {
    "name": "ipython",
    "version": 3
   },
   "file_extension": ".py",
   "mimetype": "text/x-python",
   "name": "python",
   "nbconvert_exporter": "python",
   "pygments_lexer": "ipython3",
   "version": "3.7.3"
  }
 },
 "nbformat": 4,
 "nbformat_minor": 2
}
